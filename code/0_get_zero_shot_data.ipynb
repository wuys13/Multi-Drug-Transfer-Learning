{
 "cells": [
  {
   "cell_type": "code",
   "execution_count": 1,
   "metadata": {},
   "outputs": [],
   "source": [
    "import pandas as pd\n",
    "import numpy as np\n",
    "\n",
    "all_response_df = pd.read_csv('../data/tcga/PDR_data/tcga698_single_drug_response_df.csv',index_col=1)\n",
    "# response_type_df = pd.read_csv('../data/tcga/PDR_data/tcga667_single_drug_response_type_df.csv',index_col=1)\n",
    "\n",
    "Tumor_type_list = [ \"brca\", \"cesc\", \"coad\", \"gbm\", \"hnsc\", \"kich\" ,\"kirc\", \"kirp\" , \"lgg\" ,\n",
    "              \"luad\", \"lusc\",  \"paad\",  \"read\", \"sarc\", \"skcm\", \"stad\"] #\"ucec\",\n",
    "            # \"lgg\",\"blca\",\"ov\",\"prad\",\"kich\",\"kirp\",\"lihc\", \"esca\",\"meso\",\"ucs\",\"acc\"] #20+4\n",
    "# tumor_type = [element.upper() for element in Tumor_type_list][1]\n",
    "\n",
    "for tumor_type in [element.upper() for element in Tumor_type_list]:\n",
    "    response_df = all_response_df.loc[all_response_df['tcga_project'] == tumor_type]\n",
    "    response_df = response_df[['days_to_new_tumor_event_after_initial_treatment','smiles','cid']]\n",
    "        \n",
    "    response_df['label'] = pd.qcut(response_df['days_to_new_tumor_event_after_initial_treatment'],2,labels = range(2))\n",
    "    response_df.to_csv(f\"../data/preprocessed_dat/tcga_clinical_data/{tumor_type}_{response_df.shape[0]}.csv\")\n"
   ]
  },
  {
   "cell_type": "code",
   "execution_count": 6,
   "metadata": {},
   "outputs": [],
   "source": [
    "#for KG\n",
    "import pandas as pd\n",
    "import numpy as np\n",
    "\n",
    "all_response_df = pd.read_csv('../data/tcga/PDR_data/tcga698_single_drug_response_df.csv',index_col=1)\n",
    "# response_type_df = pd.read_csv('../data/tcga/PDR_data/tcga667_single_drug_response_type_df.csv',index_col=1)\n",
    "\n",
    "Tumor_type_list = [ \"brca\", \"cesc\", \"coad\", \"gbm\", \"hnsc\", \"kich\" ,\"kirc\", \"kirp\" , \"lgg\" ,\n",
    "              \"luad\", \"lusc\",  \"paad\",  \"read\", \"sarc\", \"skcm\", \"stad\"] #\"ucec\",\n",
    "            # \"lgg\",\"blca\",\"ov\",\"prad\",\"kich\",\"kirp\",\"lihc\", \"esca\",\"meso\",\"ucs\",\"acc\"] #20+4\n",
    "# tumor_type = [element.upper() for element in Tumor_type_list][1]\n",
    "\n",
    "Tumor_type_list = [ \"brca\", \"cesc\", \"coad\", \"gbm\", \"hnsc\", \"kich\" ,\"kirc\", \"kirp\" , \"lgg\" ,\n",
    "              \"luad\", \"lusc\",  \"read\", \"sarc\", \"skcm\", \"stad\"]\n",
    "\n",
    "for tumor_type in [element.upper() for element in Tumor_type_list]:\n",
    "    response_df = all_response_df.loc[all_response_df['tcga_project'] == tumor_type]\n",
    "    response_df = response_df[['days_to_new_tumor_event_after_initial_treatment','drug_name']]\n",
    "        \n",
    "    response_df['label'] = pd.qcut(response_df['days_to_new_tumor_event_after_initial_treatment'],2,labels = range(2))\n",
    "    response_df.reset_index(inplace=True)\n",
    "    del response_df['days_to_new_tumor_event_after_initial_treatment']\n",
    "    response_df.columns = [\"Sample_id\",\"Drug_name\",\"Label\"]\n",
    "    response_df.to_csv(f\"../data/preprocessed_dat/tcga_clinical_data/{tumor_type}_{response_df.shape[0]}.csv\")\n"
   ]
  },
  {
   "cell_type": "code",
   "execution_count": 10,
   "metadata": {},
   "outputs": [
    {
     "name": "stderr",
     "output_type": "stream",
     "text": [
      "/tmp/ipykernel_1183435/3823672090.py:5: SettingWithCopyWarning: \n",
      "A value is trying to be set on a copy of a slice from a DataFrame\n",
      "\n",
      "See the caveats in the documentation: https://pandas.pydata.org/pandas-docs/stable/user_guide/indexing.html#returning-a-view-versus-a-copy\n",
      "  response_df.drop_duplicates(inplace=True)\n"
     ]
    }
   ],
   "source": [
    "#for KG\n",
    "all_response_df = pd.read_csv('../data/tcga/PDR_data/tcga698_single_drug_response_df.csv',index_col=1)\n",
    "response_df = all_response_df[['drug_name','smiles','cid']]\n",
    "response_df.index = range(response_df.shape[0])\n",
    "response_df.drop_duplicates(inplace=True)\n",
    "response_df.index = range(response_df.shape[0])\n",
    "response_df.columns = [\"Drug_name\",\"Smiles\",\"Cid\"]\n",
    "response_df\n",
    "response_df.to_csv(f\"../data/preprocessed_dat/tcga_clinical_data/TCGA_drug_info.csv\")"
   ]
  },
  {
   "attachments": {},
   "cell_type": "markdown",
   "metadata": {},
   "source": [
    "## 调试得到所有癌种的Zero-shot dataset"
   ]
  },
  {
   "cell_type": "code",
   "execution_count": 1,
   "metadata": {},
   "outputs": [
    {
     "name": "stderr",
     "output_type": "stream",
     "text": [
      "/opt/conda/envs/python3.8/lib/python3.8/site-packages/tqdm/auto.py:22: TqdmWarning: IProgress not found. Please update jupyter and ipywidgets. See https://ipywidgets.readthedocs.io/en/stable/user_install.html\n",
      "  from .autonotebook import tqdm as notebook_tqdm\n"
     ]
    },
    {
     "name": "stdout",
     "output_type": "stream",
     "text": [
      "Starting generating pretrain dataset...\n",
      "Step1 load in dim: patient(10717); ccle(1917)\n",
      "Step2 after locate dim: patient(1099); ccle(1305)\n",
      "Define CCL_tumor_type: all_CCL\n",
      "Step3 after pseudo construct dim: patient(1099); ccle(1305)\n",
      "Step4 after select HVGs: patient_gene(1000):ccle_gene(1000):union_gene(1672)\n",
      "Step5 after combination dim: 2404 samples  *  1672 genes\n",
      "\n"
     ]
    }
   ],
   "source": [
    "import data\n",
    "\n",
    "Tumor_type_list = [\"tcga\", \"blca\", \"brca\", \"cesc\", \"coad\", \"gbm\", \"hnsc\", \"kich\", \"kirc\", \n",
    "            \"kirp\", \"lgg\", \"lihc\", \"luad\", \"lusc\", \"ov\", \"paad\", \"prad\", \"read\", \"sarc\", \"skcm\", \"stad\", #\"ucec\",\n",
    "            \"esca\",\"meso\",\"ucs\",\"acc\"] \n",
    "\n",
    "gex_features_df,CCL_tumor_type,all_ccle_gex,all_patient_gex = data.get_pretrain_dataset(\n",
    "        patient_tumor_type = \"brca\",\n",
    "        CCL_type = \"all_CCL\",\n",
    "        tumor_type = \"BRCA\",\n",
    "        tcga_construction = \"raw\",\n",
    "        CCL_construction = \"raw\",\n",
    "        gene_num = 1000,select_gene_method = \"Percent_sd\"\n",
    "        )"
   ]
  },
  {
   "cell_type": "code",
   "execution_count": 2,
   "metadata": {},
   "outputs": [
    {
     "name": "stdout",
     "output_type": "stream",
     "text": [
      "Zero-shot to these TT: ['BRCA', 'CESC', 'COAD', 'GBM', 'HNSC', 'KICH', 'KIRC', 'KIRP', 'LGG', 'LIHC', 'LUAD', 'LUSC', 'OV', 'PAAD', 'PRAD', 'READ', 'SARC', 'SKCM']\n"
     ]
    }
   ],
   "source": [
    "select_Tumor_type_list = Tumor_type_list[2:20]\n",
    "select_Tumor_type_list = [element.upper() for element in Tumor_type_list[2:20]]\n",
    "print(f'Zero-shot to these TT: {select_Tumor_type_list}')"
   ]
  },
  {
   "cell_type": "code",
   "execution_count": 3,
   "metadata": {},
   "outputs": [],
   "source": [
    "import data\n",
    "labeled_tcga_dataloader_all_TT = data.get_all_tcga_ZS_dataloaders(all_patient_gex, \n",
    "                    batch_size=64,\n",
    "                    Tumor_type_list=select_Tumor_type_list,\n",
    "                    label_type = \"PFS\",q=2)"
   ]
  },
  {
   "cell_type": "code",
   "execution_count": 4,
   "metadata": {},
   "outputs": [
    {
     "data": {
      "text/plain": [
       "<generator object get_all_tcga_ZS_dataloaders at 0x7fae7956e7b0>"
      ]
     },
     "execution_count": 4,
     "metadata": {},
     "output_type": "execute_result"
    }
   ],
   "source": [
    "labeled_tcga_dataloader_all_TT"
   ]
  },
  {
   "cell_type": "code",
   "execution_count": 6,
   "metadata": {},
   "outputs": [
    {
     "ename": "",
     "evalue": "",
     "output_type": "error",
     "traceback": [
      "\u001b[1;31m在当前单元格或上一个单元格中执行代码时 Kernel 崩溃。请查看单元格中的代码，以确定故障的可能原因。有关详细信息，请单击 <a href='https://aka.ms/vscodeJupyterKernelCrash'>此处</a>。有关更多详细信息，请查看 Jupyter <a href='command:jupyter.viewOutput'>log</a>。"
     ]
    }
   ],
   "source": [
    "for labeled_tcga_dataloader,TT in labeled_tcga_dataloader_all_TT:\n",
    "    for x_gex ,x_smiles, y_batch in labeled_tcga_dataloader:\n",
    "        print(x_smiles)"
   ]
  },
  {
   "cell_type": "markdown",
   "metadata": {},
   "source": []
  },
  {
   "cell_type": "code",
   "execution_count": 12,
   "metadata": {},
   "outputs": [
    {
     "ename": "ValueError",
     "evalue": "not enough values to unpack (expected 3, got 1)",
     "output_type": "error",
     "traceback": [
      "\u001b[0;31m---------------------------------------------------------------------------\u001b[0m",
      "\u001b[0;31mValueError\u001b[0m                                Traceback (most recent call last)",
      "Cell \u001b[0;32mIn[12], line 1\u001b[0m\n\u001b[0;32m----> 1\u001b[0m \u001b[39mfor\u001b[39;00m x_gex ,x_smiles, y_batch \u001b[39min\u001b[39;00m labeled_tcga_dataloader:\n\u001b[1;32m      2\u001b[0m     \u001b[39mprint\u001b[39m(x_gex)\n",
      "\u001b[0;31mValueError\u001b[0m: not enough values to unpack (expected 3, got 1)"
     ]
    }
   ],
   "source": []
  }
 ],
 "metadata": {
  "kernelspec": {
   "display_name": "python3.8",
   "language": "python",
   "name": "python3"
  },
  "language_info": {
   "codemirror_mode": {
    "name": "ipython",
    "version": 3
   },
   "file_extension": ".py",
   "mimetype": "text/x-python",
   "name": "python",
   "nbconvert_exporter": "python",
   "pygments_lexer": "ipython3",
   "version": "3.8.13"
  },
  "orig_nbformat": 4,
  "vscode": {
   "interpreter": {
    "hash": "4a8be3bc4a8cab6a28ae1961df9fd3a2c479bad729c54cc173db2891af5c9618"
   }
  }
 },
 "nbformat": 4,
 "nbformat_minor": 2
}
