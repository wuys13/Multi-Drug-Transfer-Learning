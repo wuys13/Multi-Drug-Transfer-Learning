{
 "cells": [
  {
   "cell_type": "code",
   "execution_count": 1,
   "metadata": {},
   "outputs": [],
   "source": [
    "from data import get_TT_labeled_dataloaders"
   ]
  },
  {
   "cell_type": "code",
   "execution_count": 2,
   "metadata": {},
   "outputs": [],
   "source": [
    "import data_config\n",
    "import pandas as pd\n",
    "gex_features_df = pd.read_csv(data_config.gex_feature_file, index_col=0)\n"
   ]
  },
  {
   "cell_type": "code",
   "execution_count": 3,
   "metadata": {},
   "outputs": [],
   "source": [
    "labeled_tcga_dataloader = get_TT_labeled_dataloaders(\n",
    "        gex_features_df=gex_features_df,\n",
    "        tcga_cancer_type = 'MESO',\n",
    "        batch_size = 1\n",
    ")"
   ]
  },
  {
   "cell_type": "code",
   "execution_count": 5,
   "metadata": {},
   "outputs": [
    {
     "data": {
      "text/plain": [
       "(tensor([[ 0.5407,  0.5868, -0.6704,  ..., -0.2290,  1.0653,  0.2842],\n",
       "         [ 1.8017,  0.5771, -0.9504,  ...,  0.1262, -0.0922, -0.0711],\n",
       "         [ 1.3036,  1.1785, -1.2443,  ...,  0.2238,  0.0511,  0.7721],\n",
       "         ...,\n",
       "         [ 1.5439,  0.4805, -1.0148,  ...,  1.3495, -0.0509,  0.1098],\n",
       "         [ 0.2442,  1.9082, -1.0839,  ...,  0.5633,  0.2527,  1.4879],\n",
       "         [ 1.8961,  1.3503, -0.6079,  ...,  1.2199,  1.2754,  0.7294]]),\n",
       " tensor([0, 0, 1, 1, 1, 0, 1, 0, 1, 0, 0], dtype=torch.int32))"
      ]
     },
     "execution_count": 5,
     "metadata": {},
     "output_type": "execute_result"
    }
   ],
   "source": [
    "labeled_tcga_dataloader.dataset.tensors"
   ]
  },
  {
   "cell_type": "code",
   "execution_count": 4,
   "metadata": {},
   "outputs": [],
   "source": [
    "tcga_gex_feature_df = gex_features_df.loc[gex_features_df.index.str.startswith('TCGA')]\n",
    "tcga_gex_feature_df.index = tcga_gex_feature_df.index.map(lambda x: x[:12])\n",
    "tcga_gex_feature_df = tcga_gex_feature_df.groupby(level=0).mean()\n",
    "tcga_treatment_df = pd.read_csv(data_config.tcga_first_treatment_file)\n",
    "tcga_response_df = pd.read_csv(data_config.tcga_first_response_file)\n",
    "\n",
    "tcga_treatment_df.drop_duplicates(subset=['bcr_patient_barcode'], keep=False, inplace=True)\n",
    "tcga_treatment_df.set_index('bcr_patient_barcode', inplace=True)\n",
    "\n",
    "tcga_response_df.drop_duplicates(inplace=True)\n",
    "tcga_response_df.drop_duplicates(subset=['bcr_patient_barcode'], inplace=True)\n",
    "tcga_response_df.set_index('bcr_patient_barcode', inplace=True)"
   ]
  },
  {
   "cell_type": "code",
   "execution_count": 5,
   "metadata": {},
   "outputs": [
    {
     "data": {
      "text/plain": [
       "BRCA    209\n",
       "GBM     133\n",
       "LGG     129\n",
       "CESC    106\n",
       "HNSC    101\n",
       "SKCM     87\n",
       "STAD     74\n",
       "PAAD     69\n",
       "KIRC     51\n",
       "PRAD     37\n",
       "THCA     31\n",
       "LIHC     30\n",
       "COAD     29\n",
       "UCEC     29\n",
       "READ     28\n",
       "LUAD     23\n",
       "MESO     22\n",
       "LUSC     20\n",
       "SARC     17\n",
       "ESCA     13\n",
       "KIRP     11\n",
       "BLCA     11\n",
       "OV        9\n",
       "TGCT      6\n",
       "UCS       5\n",
       "UVM       4\n",
       "CHOL      4\n",
       "THYM      4\n",
       "KICH      3\n",
       "PCPG      2\n",
       "ACC       2\n",
       "DLBC      1\n",
       "Name: tcga_project, dtype: int64"
      ]
     },
     "execution_count": 5,
     "metadata": {},
     "output_type": "execute_result"
    }
   ],
   "source": [
    "tcga_treatment_df['tcga_project'].value_counts()"
   ]
  },
  {
   "cell_type": "code",
   "execution_count": 6,
   "metadata": {},
   "outputs": [
    {
     "data": {
      "text/plain": [
       "True"
      ]
     },
     "execution_count": 6,
     "metadata": {},
     "output_type": "execute_result"
    }
   ],
   "source": [
    "tcga_drug_barcodes = tcga_treatment_df.index\n",
    "drug_tcga_response_df = tcga_response_df.loc[tcga_drug_barcodes.intersection(tcga_response_df.index)]\n",
    "labeled_tcga_gex_feature_df = tcga_gex_feature_df.loc[\n",
    "        drug_tcga_response_df.index.intersection(tcga_gex_feature_df.index)]\n",
    "labeled_df = tcga_response_df.loc[labeled_tcga_gex_feature_df.index]\n",
    "\n",
    "all(labeled_df.index == labeled_tcga_gex_feature_df.index)"
   ]
  },
  {
   "cell_type": "code",
   "execution_count": 7,
   "metadata": {},
   "outputs": [
    {
     "data": {
      "text/plain": [
       "SKCM    55\n",
       "KIRC    39\n",
       "LGG     36\n",
       "HNSC    31\n",
       "PAAD    31\n",
       "STAD    28\n",
       "LIHC    27\n",
       "CESC    18\n",
       "BRCA    15\n",
       "LUAD    14\n",
       "PRAD    12\n",
       "SARC    12\n",
       "GBM     12\n",
       "MESO    11\n",
       "LUSC    11\n",
       "COAD    10\n",
       "BLCA     7\n",
       "ESCA     6\n",
       "KIRP     5\n",
       "KICH     3\n",
       "READ     3\n",
       "UCEC     3\n",
       "CHOL     3\n",
       "OV       2\n",
       "PCPG     2\n",
       "UCS      2\n",
       "ACC      2\n",
       "THCA     1\n",
       "UVM      1\n",
       "THYM     1\n",
       "Name: tcga_project, dtype: int64"
      ]
     },
     "execution_count": 7,
     "metadata": {},
     "output_type": "execute_result"
    }
   ],
   "source": [
    "labeled_df['tcga_project'].value_counts()"
   ]
  },
  {
   "cell_type": "code",
   "execution_count": 8,
   "metadata": {},
   "outputs": [
    {
     "data": {
      "text/plain": [
       "Temozolomide    46\n",
       "Gemcitabine     46\n",
       "Cisplatin       40\n",
       "NOS             35\n",
       "Sorafenib       26\n",
       "                ..\n",
       "Etoposide        1\n",
       "Oxaliplatin      1\n",
       "Degarelix        1\n",
       "Methotrexate     1\n",
       "Pemetrexed       1\n",
       "Name: drug, Length: 78, dtype: int64"
      ]
     },
     "execution_count": 8,
     "metadata": {},
     "output_type": "execute_result"
    }
   ],
   "source": [
    "#全癌种药物\n",
    "tcga_drug_barcodes = tcga_treatment_df.index\n",
    "drug_tcga_response_df = tcga_response_df.loc[tcga_drug_barcodes.intersection(tcga_response_df.index)]\n",
    "labeled_tcga_gex_feature_df = tcga_gex_feature_df.loc[\n",
    "        drug_tcga_response_df.index.intersection(tcga_gex_feature_df.index)]\n",
    "labeled_df = tcga_response_df.loc[labeled_tcga_gex_feature_df.index]\n",
    "labeled_df['drug'] = tcga_treatment_df.loc[labeled_df.index,'pharmaceutical_therapy_drug_name']\n",
    "\n",
    "labeled_df['drug'].value_counts()"
   ]
  },
  {
   "cell_type": "code",
   "execution_count": 10,
   "metadata": {},
   "outputs": [
    {
     "name": "stdout",
     "output_type": "stream",
     "text": [
      "Temozolomide    46\n",
      "Gemcitabine     46\n",
      "Cisplatin       40\n",
      "NOS             35\n",
      "Sorafenib       26\n",
      "Fluorouracil    21\n",
      "Sunitinib       12\n",
      "Capecitabine    12\n",
      "Carboplatin     10\n",
      "Dacarbazine      9\n",
      "Anastrozole      9\n",
      "Leuprolide       9\n",
      "Doxorubicin      8\n",
      "Aldesleukin      7\n",
      "Erlotinib        6\n",
      "Interferon A     5\n",
      "Docetaxel        4\n",
      "Paclitaxel       4\n",
      "Tamoxifen        4\n",
      "Ipilimumab       4\n",
      "Name: drug, dtype: int64\n"
     ]
    }
   ],
   "source": [
    "print(labeled_df['drug'].value_counts()[0:20])"
   ]
  },
  {
   "cell_type": "code",
   "execution_count": 11,
   "metadata": {},
   "outputs": [],
   "source": [
    "labeled_df.to_csv('output/label_all_cancers.csv')"
   ]
  },
  {
   "cell_type": "code",
   "execution_count": 22,
   "metadata": {},
   "outputs": [
    {
     "data": {
      "text/plain": [
       "True"
      ]
     },
     "execution_count": 22,
     "metadata": {},
     "output_type": "execute_result"
    }
   ],
   "source": [
    "#选癌种\n",
    "tcga_drug_barcodes = tcga_treatment_df.index[tcga_treatment_df['tcga_project'] == 'SKCM']\n",
    "drug_tcga_response_df = tcga_response_df.loc[tcga_drug_barcodes.intersection(tcga_response_df.index)]\n",
    "labeled_tcga_gex_feature_df = tcga_gex_feature_df.loc[\n",
    "        drug_tcga_response_df.index.intersection(tcga_gex_feature_df.index)]\n",
    "labeled_df = tcga_response_df.loc[labeled_tcga_gex_feature_df.index]\n",
    "labeled_df['drug'] = tcga_treatment_df.loc[labeled_df.index,'pharmaceutical_therapy_drug_name']\n",
    "\n",
    "all(labeled_df.index == labeled_tcga_gex_feature_df.index)"
   ]
  },
  {
   "cell_type": "code",
   "execution_count": 23,
   "metadata": {},
   "outputs": [
    {
     "data": {
      "text/plain": [
       "NOS                            14\n",
       "Dacarbazine                     9\n",
       "Interferon A                    4\n",
       "Vemurafenib                     4\n",
       "Ipilimumab                      4\n",
       "Temozolomide                    3\n",
       "Fotemustine                     3\n",
       "Aldesleukin                     2\n",
       "Pembrolizumab                   1\n",
       "PV-10                           1\n",
       "Sargramostim                    1\n",
       "MAGE-A3                         1\n",
       "PNU-159548                      1\n",
       "Polyvalent Melanoma Vaccine     1\n",
       "Vemurafenib                     1\n",
       "PI-88                           1\n",
       "Melphalan                       1\n",
       "Peginterferon alfa-2a           1\n",
       "Diphencyprone                   1\n",
       "Nivolumab                       1\n",
       "Name: drug, dtype: int64"
      ]
     },
     "execution_count": 23,
     "metadata": {},
     "output_type": "execute_result"
    }
   ],
   "source": [
    "labeled_df['drug'].value_counts()"
   ]
  },
  {
   "cell_type": "code",
   "execution_count": null,
   "metadata": {},
   "outputs": [],
   "source": []
  },
  {
   "cell_type": "code",
   "execution_count": null,
   "metadata": {},
   "outputs": [],
   "source": [
    "\n",
    "\n",
    "    if days_threshold is None:\n",
    "        days_threshold = np.median(labeled_df.days_to_new_tumor_event_after_initial_treatment)\n",
    "\n",
    "    drug_label = np.array(labeled_df.days_to_new_tumor_event_after_initial_treatment > days_threshold, dtype='int32')\n",
    "    # # #加上index\n",
    "    # tcga_label_df = pd.DataFrame(index = labeled_df.index,data = drug_label,columns=['label'])\n",
    "    # tcga_label_df.to_csv(f'label_index/{drug}_index.csv')\n",
    "\n",
    "    labeled_tcga_dateset = TensorDataset(\n",
    "        torch.from_numpy(labeled_tcga_gex_feature_df.values.astype('float32')),\n",
    "        torch.from_numpy(drug_label))\n",
    "\n",
    "    batch_size = 1\n",
    "    labeled_tcga_dataloader = DataLoader(labeled_tcga_dateset,\n",
    "                                         batch_size=batch_size,\n",
    "                                         shuffle=False) #保持Patient原本的顺"
   ]
  },
  {
   "cell_type": "code",
   "execution_count": null,
   "metadata": {},
   "outputs": [],
   "source": []
  },
  {
   "cell_type": "code",
   "execution_count": null,
   "metadata": {},
   "outputs": [],
   "source": []
  },
  {
   "cell_type": "code",
   "execution_count": null,
   "metadata": {},
   "outputs": [],
   "source": []
  }
 ],
 "metadata": {
  "kernelspec": {
   "display_name": "Python 3.8.13 ('python3.8')",
   "language": "python",
   "name": "python3"
  },
  "language_info": {
   "codemirror_mode": {
    "name": "ipython",
    "version": 3
   },
   "file_extension": ".py",
   "mimetype": "text/x-python",
   "name": "python",
   "nbconvert_exporter": "python",
   "pygments_lexer": "ipython3",
   "version": "3.8.13"
  },
  "orig_nbformat": 4,
  "vscode": {
   "interpreter": {
    "hash": "878b48460f52f4ac6f7724cea8158a01fa313048edd655649d25eba8a228ab3b"
   }
  }
 },
 "nbformat": 4,
 "nbformat_minor": 2
}
